{
  "cells": [
    {
      "cell_type": "markdown",
      "metadata": {
        "id": "view-in-github",
        "colab_type": "text"
      },
      "source": [
        "<a href=\"https://colab.research.google.com/github/semihengin/Blackjack-21-Game/blob/main/Untitled.ipynb\" target=\"_parent\"><img src=\"https://colab.research.google.com/assets/colab-badge.svg\" alt=\"Open In Colab\"/></a>"
      ]
    },
    {
      "cell_type": "markdown",
      "id": "5bc8f4b2",
      "metadata": {
        "id": "5bc8f4b2"
      },
      "source": [
        "# SEMİH ENGİN 191180037"
      ]
    },
    {
      "cell_type": "code",
      "execution_count": 2,
      "id": "f6b436b5",
      "metadata": {
        "id": "f6b436b5"
      },
      "outputs": [],
      "source": [
        "import pandas as pd\n",
        "import numpy as np\n",
        "from sklearn.datasets import load_iris\n",
        "import graphviz"
      ]
    },
    {
      "cell_type": "markdown",
      "id": "3800c96b",
      "metadata": {
        "id": "3800c96b"
      },
      "source": [
        "# Q1 Split the Dataset and Build a Random Forest Classifier"
      ]
    },
    {
      "cell_type": "code",
      "execution_count": 3,
      "id": "3734af2f",
      "metadata": {
        "colab": {
          "base_uri": "https://localhost:8080/"
        },
        "id": "3734af2f",
        "outputId": "4f22b677-2774-4af4-cac0-e0c9f4d766b7"
      },
      "outputs": [
        {
          "output_type": "execute_result",
          "data": {
            "text/plain": [
              "RandomForestClassifier(n_estimators=10)"
            ]
          },
          "metadata": {},
          "execution_count": 3
        }
      ],
      "source": [
        "from sklearn.ensemble import RandomForestClassifier\n",
        "from sklearn.model_selection import train_test_split\n",
        "\n",
        "df = load_iris()\n",
        "X = df.data\n",
        "y = df.target\n",
        "#I got the iris dataset with the help of the library\n",
        "\n",
        "X_train, X_test, y_train, y_test = train_test_split(X, y, test_size=0.25, random_state=50)\n",
        "#I divided the data into 25% and 75% as training and test set.\n",
        "\n",
        "clf = RandomForestClassifier(n_estimators=10, criterion='gini')\n",
        "#I created Random Forest Classifier with 10 trees and gini index criteria\n",
        "\n",
        "clf.fit(X_train, y_train)\n",
        "#I trained the model using the training data."
      ]
    },
    {
      "cell_type": "markdown",
      "id": "47c6f20b",
      "metadata": {
        "id": "47c6f20b"
      },
      "source": [
        "# Q2 Evaluate your model on the Test Set"
      ]
    },
    {
      "cell_type": "code",
      "execution_count": 4,
      "id": "6acfea76",
      "metadata": {
        "colab": {
          "base_uri": "https://localhost:8080/"
        },
        "id": "6acfea76",
        "outputId": "daebe85b-442f-4e8d-997c-8a4cc23a6db3"
      },
      "outputs": [
        {
          "output_type": "stream",
          "name": "stdout",
          "text": [
            "Confusion Matrix :\n",
            " [[11  0  0]\n",
            " [ 0 13  2]\n",
            " [ 0  1 11]]\n",
            "\n",
            "Accuracy Value: 0.9210526315789473\n",
            "Precision Value: 0.9210526315789473\n",
            "Recall Value: 0.9210526315789473\n",
            "F-1 Score: 0.9210526315789473\n"
          ]
        }
      ],
      "source": [
        "from sklearn.metrics import precision_recall_fscore_support,confusion_matrix, accuracy_score, precision_score, recall_score, f1_score\n",
        "from sklearn.tree import export_graphviz\n",
        "\n",
        "#Estimates were made on the Test data using the trained model.\n",
        "y_pred = clf.predict(X_test)\n",
        "\n",
        "# Confusion matrix\n",
        "cfm = confusion_matrix(y_test, y_pred)\n",
        "print(\"Confusion Matrix :\\n\",(cfm))\n",
        "\n",
        "# Report the accuracy, precision, recall, and f-1 score of the model\n",
        "precision, recall, f1_score, _ = precision_recall_fscore_support(y_test, y_pred, average='micro')\n",
        "print(\"\\nAccuracy Value:\", clf.score(X_test, y_test))\n",
        "print(\"Precision Value:\", precision)\n",
        "print(\"Recall Value:\", recall)\n",
        "print(\"F-1 Score:\", f1_score)"
      ]
    },
    {
      "cell_type": "markdown",
      "id": "3ba18be3",
      "metadata": {
        "id": "3ba18be3"
      },
      "source": [
        "# Q3 Visualize a Single Tree"
      ]
    },
    {
      "cell_type": "code",
      "execution_count": 5,
      "id": "05d11bf4",
      "metadata": {
        "colab": {
          "base_uri": "https://localhost:8080/",
          "height": 795
        },
        "id": "05d11bf4",
        "outputId": "29771428-228b-4e98-9c08-1c37c1a8e48d"
      },
      "outputs": [
        {
          "output_type": "execute_result",
          "data": {
            "text/plain": [
              "<graphviz.files.Source at 0x7f8ff0cb78b0>"
            ],
            "image/svg+xml": "<?xml version=\"1.0\" encoding=\"UTF-8\" standalone=\"no\"?>\n<!DOCTYPE svg PUBLIC \"-//W3C//DTD SVG 1.1//EN\"\n \"http://www.w3.org/Graphics/SVG/1.1/DTD/svg11.dtd\">\n<!-- Generated by graphviz version 2.40.1 (20161225.0304)\n -->\n<!-- Title: Tree Pages: 1 -->\n<svg width=\"804pt\" height=\"581pt\"\n viewBox=\"0.00 0.00 804.00 581.00\" xmlns=\"http://www.w3.org/2000/svg\" xmlns:xlink=\"http://www.w3.org/1999/xlink\">\n<g id=\"graph0\" class=\"graph\" transform=\"scale(1 1) rotate(0) translate(4 577)\">\n<title>Tree</title>\n<polygon fill=\"#ffffff\" stroke=\"transparent\" points=\"-4,4 -4,-577 800,-577 800,4 -4,4\"/>\n<!-- 0 -->\n<g id=\"node1\" class=\"node\">\n<title>0</title>\n<polygon fill=\"none\" stroke=\"#000000\" points=\"494.5,-573 354.5,-573 354.5,-505 494.5,-505 494.5,-573\"/>\n<text text-anchor=\"middle\" x=\"424.5\" y=\"-557.8\" font-family=\"Helvetica,sans-Serif\" font-size=\"14.00\" fill=\"#000000\">X[2] &lt;= 2.6</text>\n<text text-anchor=\"middle\" x=\"424.5\" y=\"-542.8\" font-family=\"Helvetica,sans-Serif\" font-size=\"14.00\" fill=\"#000000\">gini = 0.666</text>\n<text text-anchor=\"middle\" x=\"424.5\" y=\"-527.8\" font-family=\"Helvetica,sans-Serif\" font-size=\"14.00\" fill=\"#000000\">samples = 77</text>\n<text text-anchor=\"middle\" x=\"424.5\" y=\"-512.8\" font-family=\"Helvetica,sans-Serif\" font-size=\"14.00\" fill=\"#000000\">value = [40, 35, 37]</text>\n</g>\n<!-- 1 -->\n<g id=\"node2\" class=\"node\">\n<title>1</title>\n<polygon fill=\"none\" stroke=\"#000000\" points=\"414,-461.5 291,-461.5 291,-408.5 414,-408.5 414,-461.5\"/>\n<text text-anchor=\"middle\" x=\"352.5\" y=\"-446.3\" font-family=\"Helvetica,sans-Serif\" font-size=\"14.00\" fill=\"#000000\">gini = 0.0</text>\n<text text-anchor=\"middle\" x=\"352.5\" y=\"-431.3\" font-family=\"Helvetica,sans-Serif\" font-size=\"14.00\" fill=\"#000000\">samples = 29</text>\n<text text-anchor=\"middle\" x=\"352.5\" y=\"-416.3\" font-family=\"Helvetica,sans-Serif\" font-size=\"14.00\" fill=\"#000000\">value = [40, 0, 0]</text>\n</g>\n<!-- 0&#45;&gt;1 -->\n<g id=\"edge1\" class=\"edge\">\n<title>0&#45;&gt;1</title>\n<path fill=\"none\" stroke=\"#000000\" d=\"M400.9245,-504.9465C393.1463,-493.7113 384.4861,-481.2021 376.6645,-469.9043\"/>\n<polygon fill=\"#000000\" stroke=\"#000000\" points=\"379.4452,-467.7719 370.8753,-461.5422 373.6898,-471.7564 379.4452,-467.7719\"/>\n<text text-anchor=\"middle\" x=\"366.4032\" y=\"-482.4389\" font-family=\"Helvetica,sans-Serif\" font-size=\"14.00\" fill=\"#000000\">True</text>\n</g>\n<!-- 2 -->\n<g id=\"node3\" class=\"node\">\n<title>2</title>\n<polygon fill=\"none\" stroke=\"#000000\" points=\"563,-469 432,-469 432,-401 563,-401 563,-469\"/>\n<text text-anchor=\"middle\" x=\"497.5\" y=\"-453.8\" font-family=\"Helvetica,sans-Serif\" font-size=\"14.00\" fill=\"#000000\">X[2] &lt;= 4.85</text>\n<text text-anchor=\"middle\" x=\"497.5\" y=\"-438.8\" font-family=\"Helvetica,sans-Serif\" font-size=\"14.00\" fill=\"#000000\">gini = 0.5</text>\n<text text-anchor=\"middle\" x=\"497.5\" y=\"-423.8\" font-family=\"Helvetica,sans-Serif\" font-size=\"14.00\" fill=\"#000000\">samples = 48</text>\n<text text-anchor=\"middle\" x=\"497.5\" y=\"-408.8\" font-family=\"Helvetica,sans-Serif\" font-size=\"14.00\" fill=\"#000000\">value = [0, 35, 37]</text>\n</g>\n<!-- 0&#45;&gt;2 -->\n<g id=\"edge2\" class=\"edge\">\n<title>0&#45;&gt;2</title>\n<path fill=\"none\" stroke=\"#000000\" d=\"M448.4029,-504.9465C454.5791,-496.1475 461.3038,-486.5672 467.739,-477.3993\"/>\n<polygon fill=\"#000000\" stroke=\"#000000\" points=\"470.6629,-479.3258 473.5434,-469.13 464.9334,-475.3041 470.6629,-479.3258\"/>\n<text text-anchor=\"middle\" x=\"477.8563\" y=\"-490.0552\" font-family=\"Helvetica,sans-Serif\" font-size=\"14.00\" fill=\"#000000\">False</text>\n</g>\n<!-- 3 -->\n<g id=\"node4\" class=\"node\">\n<title>3</title>\n<polygon fill=\"none\" stroke=\"#000000\" points=\"458,-365 335,-365 335,-297 458,-297 458,-365\"/>\n<text text-anchor=\"middle\" x=\"396.5\" y=\"-349.8\" font-family=\"Helvetica,sans-Serif\" font-size=\"14.00\" fill=\"#000000\">X[2] &lt;= 4.75</text>\n<text text-anchor=\"middle\" x=\"396.5\" y=\"-334.8\" font-family=\"Helvetica,sans-Serif\" font-size=\"14.00\" fill=\"#000000\">gini = 0.157</text>\n<text text-anchor=\"middle\" x=\"396.5\" y=\"-319.8\" font-family=\"Helvetica,sans-Serif\" font-size=\"14.00\" fill=\"#000000\">samples = 26</text>\n<text text-anchor=\"middle\" x=\"396.5\" y=\"-304.8\" font-family=\"Helvetica,sans-Serif\" font-size=\"14.00\" fill=\"#000000\">value = [0, 32, 3]</text>\n</g>\n<!-- 2&#45;&gt;3 -->\n<g id=\"edge3\" class=\"edge\">\n<title>2&#45;&gt;3</title>\n<path fill=\"none\" stroke=\"#000000\" d=\"M464.4288,-400.9465C455.6221,-391.8782 446.0093,-381.9799 436.8597,-372.5585\"/>\n<polygon fill=\"#000000\" stroke=\"#000000\" points=\"439.1232,-369.8654 429.6455,-365.13 434.1015,-374.7422 439.1232,-369.8654\"/>\n</g>\n<!-- 14 -->\n<g id=\"node15\" class=\"node\">\n<title>14</title>\n<polygon fill=\"none\" stroke=\"#000000\" points=\"659,-365 536,-365 536,-297 659,-297 659,-365\"/>\n<text text-anchor=\"middle\" x=\"597.5\" y=\"-349.8\" font-family=\"Helvetica,sans-Serif\" font-size=\"14.00\" fill=\"#000000\">X[3] &lt;= 1.55</text>\n<text text-anchor=\"middle\" x=\"597.5\" y=\"-334.8\" font-family=\"Helvetica,sans-Serif\" font-size=\"14.00\" fill=\"#000000\">gini = 0.149</text>\n<text text-anchor=\"middle\" x=\"597.5\" y=\"-319.8\" font-family=\"Helvetica,sans-Serif\" font-size=\"14.00\" fill=\"#000000\">samples = 22</text>\n<text text-anchor=\"middle\" x=\"597.5\" y=\"-304.8\" font-family=\"Helvetica,sans-Serif\" font-size=\"14.00\" fill=\"#000000\">value = [0, 3, 34]</text>\n</g>\n<!-- 2&#45;&gt;14 -->\n<g id=\"edge14\" class=\"edge\">\n<title>2&#45;&gt;14</title>\n<path fill=\"none\" stroke=\"#000000\" d=\"M530.2437,-400.9465C538.9633,-391.8782 548.4809,-381.9799 557.5399,-372.5585\"/>\n<polygon fill=\"#000000\" stroke=\"#000000\" points=\"560.2745,-374.7642 564.6827,-365.13 555.2287,-369.9125 560.2745,-374.7642\"/>\n</g>\n<!-- 4 -->\n<g id=\"node5\" class=\"node\">\n<title>4</title>\n<polygon fill=\"none\" stroke=\"#000000\" points=\"260,-261 137,-261 137,-193 260,-193 260,-261\"/>\n<text text-anchor=\"middle\" x=\"198.5\" y=\"-245.8\" font-family=\"Helvetica,sans-Serif\" font-size=\"14.00\" fill=\"#000000\">X[2] &lt;= 4.45</text>\n<text text-anchor=\"middle\" x=\"198.5\" y=\"-230.8\" font-family=\"Helvetica,sans-Serif\" font-size=\"14.00\" fill=\"#000000\">gini = 0.064</text>\n<text text-anchor=\"middle\" x=\"198.5\" y=\"-215.8\" font-family=\"Helvetica,sans-Serif\" font-size=\"14.00\" fill=\"#000000\">samples = 23</text>\n<text text-anchor=\"middle\" x=\"198.5\" y=\"-200.8\" font-family=\"Helvetica,sans-Serif\" font-size=\"14.00\" fill=\"#000000\">value = [0, 29, 1]</text>\n</g>\n<!-- 3&#45;&gt;4 -->\n<g id=\"edge4\" class=\"edge\">\n<title>3&#45;&gt;4</title>\n<path fill=\"none\" stroke=\"#000000\" d=\"M334.9369,-298.6638C314.0772,-287.7072 290.617,-275.3847 269.1096,-264.0879\"/>\n<polygon fill=\"#000000\" stroke=\"#000000\" points=\"270.5056,-260.8677 260.025,-259.3162 267.2505,-267.0649 270.5056,-260.8677\"/>\n</g>\n<!-- 9 -->\n<g id=\"node10\" class=\"node\">\n<title>9</title>\n<polygon fill=\"none\" stroke=\"#000000\" points=\"454,-261 339,-261 339,-193 454,-193 454,-261\"/>\n<text text-anchor=\"middle\" x=\"396.5\" y=\"-245.8\" font-family=\"Helvetica,sans-Serif\" font-size=\"14.00\" fill=\"#000000\">X[1] &lt;= 3.1</text>\n<text text-anchor=\"middle\" x=\"396.5\" y=\"-230.8\" font-family=\"Helvetica,sans-Serif\" font-size=\"14.00\" fill=\"#000000\">gini = 0.48</text>\n<text text-anchor=\"middle\" x=\"396.5\" y=\"-215.8\" font-family=\"Helvetica,sans-Serif\" font-size=\"14.00\" fill=\"#000000\">samples = 3</text>\n<text text-anchor=\"middle\" x=\"396.5\" y=\"-200.8\" font-family=\"Helvetica,sans-Serif\" font-size=\"14.00\" fill=\"#000000\">value = [0, 3, 2]</text>\n</g>\n<!-- 3&#45;&gt;9 -->\n<g id=\"edge9\" class=\"edge\">\n<title>3&#45;&gt;9</title>\n<path fill=\"none\" stroke=\"#000000\" d=\"M396.5,-296.9465C396.5,-288.776 396.5,-279.9318 396.5,-271.3697\"/>\n<polygon fill=\"#000000\" stroke=\"#000000\" points=\"400.0001,-271.13 396.5,-261.13 393.0001,-271.13 400.0001,-271.13\"/>\n</g>\n<!-- 5 -->\n<g id=\"node6\" class=\"node\">\n<title>5</title>\n<polygon fill=\"none\" stroke=\"#000000\" points=\"123,-149.5 0,-149.5 0,-96.5 123,-96.5 123,-149.5\"/>\n<text text-anchor=\"middle\" x=\"61.5\" y=\"-134.3\" font-family=\"Helvetica,sans-Serif\" font-size=\"14.00\" fill=\"#000000\">gini = 0.0</text>\n<text text-anchor=\"middle\" x=\"61.5\" y=\"-119.3\" font-family=\"Helvetica,sans-Serif\" font-size=\"14.00\" fill=\"#000000\">samples = 16</text>\n<text text-anchor=\"middle\" x=\"61.5\" y=\"-104.3\" font-family=\"Helvetica,sans-Serif\" font-size=\"14.00\" fill=\"#000000\">value = [0, 21, 0]</text>\n</g>\n<!-- 4&#45;&gt;5 -->\n<g id=\"edge5\" class=\"edge\">\n<title>4&#45;&gt;5</title>\n<path fill=\"none\" stroke=\"#000000\" d=\"M153.6411,-192.9465C137.8252,-180.9403 120.0927,-167.4791 104.4393,-155.5962\"/>\n<polygon fill=\"#000000\" stroke=\"#000000\" points=\"106.5455,-152.8009 96.4642,-149.5422 102.3129,-158.3764 106.5455,-152.8009\"/>\n</g>\n<!-- 6 -->\n<g id=\"node7\" class=\"node\">\n<title>6</title>\n<polygon fill=\"none\" stroke=\"#000000\" points=\"256,-157 141,-157 141,-89 256,-89 256,-157\"/>\n<text text-anchor=\"middle\" x=\"198.5\" y=\"-141.8\" font-family=\"Helvetica,sans-Serif\" font-size=\"14.00\" fill=\"#000000\">X[3] &lt;= 1.6</text>\n<text text-anchor=\"middle\" x=\"198.5\" y=\"-126.8\" font-family=\"Helvetica,sans-Serif\" font-size=\"14.00\" fill=\"#000000\">gini = 0.198</text>\n<text text-anchor=\"middle\" x=\"198.5\" y=\"-111.8\" font-family=\"Helvetica,sans-Serif\" font-size=\"14.00\" fill=\"#000000\">samples = 7</text>\n<text text-anchor=\"middle\" x=\"198.5\" y=\"-96.8\" font-family=\"Helvetica,sans-Serif\" font-size=\"14.00\" fill=\"#000000\">value = [0, 8, 1]</text>\n</g>\n<!-- 4&#45;&gt;6 -->\n<g id=\"edge6\" class=\"edge\">\n<title>4&#45;&gt;6</title>\n<path fill=\"none\" stroke=\"#000000\" d=\"M198.5,-192.9465C198.5,-184.776 198.5,-175.9318 198.5,-167.3697\"/>\n<polygon fill=\"#000000\" stroke=\"#000000\" points=\"202.0001,-167.13 198.5,-157.13 195.0001,-167.13 202.0001,-167.13\"/>\n</g>\n<!-- 7 -->\n<g id=\"node8\" class=\"node\">\n<title>7</title>\n<polygon fill=\"none\" stroke=\"#000000\" points=\"123,-53 8,-53 8,0 123,0 123,-53\"/>\n<text text-anchor=\"middle\" x=\"65.5\" y=\"-37.8\" font-family=\"Helvetica,sans-Serif\" font-size=\"14.00\" fill=\"#000000\">gini = 0.0</text>\n<text text-anchor=\"middle\" x=\"65.5\" y=\"-22.8\" font-family=\"Helvetica,sans-Serif\" font-size=\"14.00\" fill=\"#000000\">samples = 6</text>\n<text text-anchor=\"middle\" x=\"65.5\" y=\"-7.8\" font-family=\"Helvetica,sans-Serif\" font-size=\"14.00\" fill=\"#000000\">value = [0, 8, 0]</text>\n</g>\n<!-- 6&#45;&gt;7 -->\n<g id=\"edge7\" class=\"edge\">\n<title>6&#45;&gt;7</title>\n<path fill=\"none\" stroke=\"#000000\" d=\"M151.6092,-88.9777C138.3577,-79.3629 123.9653,-68.9203 110.8087,-59.3743\"/>\n<polygon fill=\"#000000\" stroke=\"#000000\" points=\"112.5152,-56.2883 102.3658,-53.2485 108.4043,-61.9541 112.5152,-56.2883\"/>\n</g>\n<!-- 8 -->\n<g id=\"node9\" class=\"node\">\n<title>8</title>\n<polygon fill=\"none\" stroke=\"#000000\" points=\"256,-53 141,-53 141,0 256,0 256,-53\"/>\n<text text-anchor=\"middle\" x=\"198.5\" y=\"-37.8\" font-family=\"Helvetica,sans-Serif\" font-size=\"14.00\" fill=\"#000000\">gini = 0.0</text>\n<text text-anchor=\"middle\" x=\"198.5\" y=\"-22.8\" font-family=\"Helvetica,sans-Serif\" font-size=\"14.00\" fill=\"#000000\">samples = 1</text>\n<text text-anchor=\"middle\" x=\"198.5\" y=\"-7.8\" font-family=\"Helvetica,sans-Serif\" font-size=\"14.00\" fill=\"#000000\">value = [0, 0, 1]</text>\n</g>\n<!-- 6&#45;&gt;8 -->\n<g id=\"edge8\" class=\"edge\">\n<title>6&#45;&gt;8</title>\n<path fill=\"none\" stroke=\"#000000\" d=\"M198.5,-88.9777C198.5,-80.7364 198.5,-71.887 198.5,-63.5153\"/>\n<polygon fill=\"#000000\" stroke=\"#000000\" points=\"202.0001,-63.2484 198.5,-53.2485 195.0001,-63.2485 202.0001,-63.2484\"/>\n</g>\n<!-- 10 -->\n<g id=\"node11\" class=\"node\">\n<title>10</title>\n<polygon fill=\"none\" stroke=\"#000000\" points=\"389,-157 274,-157 274,-89 389,-89 389,-157\"/>\n<text text-anchor=\"middle\" x=\"331.5\" y=\"-141.8\" font-family=\"Helvetica,sans-Serif\" font-size=\"14.00\" fill=\"#000000\">X[3] &lt;= 1.6</text>\n<text text-anchor=\"middle\" x=\"331.5\" y=\"-126.8\" font-family=\"Helvetica,sans-Serif\" font-size=\"14.00\" fill=\"#000000\">gini = 0.444</text>\n<text text-anchor=\"middle\" x=\"331.5\" y=\"-111.8\" font-family=\"Helvetica,sans-Serif\" font-size=\"14.00\" fill=\"#000000\">samples = 2</text>\n<text text-anchor=\"middle\" x=\"331.5\" y=\"-96.8\" font-family=\"Helvetica,sans-Serif\" font-size=\"14.00\" fill=\"#000000\">value = [0, 1, 2]</text>\n</g>\n<!-- 9&#45;&gt;10 -->\n<g id=\"edge10\" class=\"edge\">\n<title>9&#45;&gt;10</title>\n<path fill=\"none\" stroke=\"#000000\" d=\"M375.2166,-192.9465C369.7733,-184.2373 363.8516,-174.7626 358.175,-165.6801\"/>\n<polygon fill=\"#000000\" stroke=\"#000000\" points=\"361.0993,-163.755 352.8312,-157.13 355.1633,-167.465 361.0993,-163.755\"/>\n</g>\n<!-- 13 -->\n<g id=\"node14\" class=\"node\">\n<title>13</title>\n<polygon fill=\"none\" stroke=\"#000000\" points=\"522,-149.5 407,-149.5 407,-96.5 522,-96.5 522,-149.5\"/>\n<text text-anchor=\"middle\" x=\"464.5\" y=\"-134.3\" font-family=\"Helvetica,sans-Serif\" font-size=\"14.00\" fill=\"#000000\">gini = 0.0</text>\n<text text-anchor=\"middle\" x=\"464.5\" y=\"-119.3\" font-family=\"Helvetica,sans-Serif\" font-size=\"14.00\" fill=\"#000000\">samples = 1</text>\n<text text-anchor=\"middle\" x=\"464.5\" y=\"-104.3\" font-family=\"Helvetica,sans-Serif\" font-size=\"14.00\" fill=\"#000000\">value = [0, 2, 0]</text>\n</g>\n<!-- 9&#45;&gt;13 -->\n<g id=\"edge13\" class=\"edge\">\n<title>9&#45;&gt;13</title>\n<path fill=\"none\" stroke=\"#000000\" d=\"M418.7657,-192.9465C426.0398,-181.8215 434.1306,-169.4473 441.4604,-158.237\"/>\n<polygon fill=\"#000000\" stroke=\"#000000\" points=\"444.6024,-159.8273 447.1455,-149.5422 438.7436,-155.9965 444.6024,-159.8273\"/>\n</g>\n<!-- 11 -->\n<g id=\"node12\" class=\"node\">\n<title>11</title>\n<polygon fill=\"none\" stroke=\"#000000\" points=\"389,-53 274,-53 274,0 389,0 389,-53\"/>\n<text text-anchor=\"middle\" x=\"331.5\" y=\"-37.8\" font-family=\"Helvetica,sans-Serif\" font-size=\"14.00\" fill=\"#000000\">gini = 0.0</text>\n<text text-anchor=\"middle\" x=\"331.5\" y=\"-22.8\" font-family=\"Helvetica,sans-Serif\" font-size=\"14.00\" fill=\"#000000\">samples = 1</text>\n<text text-anchor=\"middle\" x=\"331.5\" y=\"-7.8\" font-family=\"Helvetica,sans-Serif\" font-size=\"14.00\" fill=\"#000000\">value = [0, 1, 0]</text>\n</g>\n<!-- 10&#45;&gt;11 -->\n<g id=\"edge11\" class=\"edge\">\n<title>10&#45;&gt;11</title>\n<path fill=\"none\" stroke=\"#000000\" d=\"M331.5,-88.9777C331.5,-80.7364 331.5,-71.887 331.5,-63.5153\"/>\n<polygon fill=\"#000000\" stroke=\"#000000\" points=\"335.0001,-63.2484 331.5,-53.2485 328.0001,-63.2485 335.0001,-63.2484\"/>\n</g>\n<!-- 12 -->\n<g id=\"node13\" class=\"node\">\n<title>12</title>\n<polygon fill=\"none\" stroke=\"#000000\" points=\"522,-53 407,-53 407,0 522,0 522,-53\"/>\n<text text-anchor=\"middle\" x=\"464.5\" y=\"-37.8\" font-family=\"Helvetica,sans-Serif\" font-size=\"14.00\" fill=\"#000000\">gini = 0.0</text>\n<text text-anchor=\"middle\" x=\"464.5\" y=\"-22.8\" font-family=\"Helvetica,sans-Serif\" font-size=\"14.00\" fill=\"#000000\">samples = 1</text>\n<text text-anchor=\"middle\" x=\"464.5\" y=\"-7.8\" font-family=\"Helvetica,sans-Serif\" font-size=\"14.00\" fill=\"#000000\">value = [0, 0, 2]</text>\n</g>\n<!-- 10&#45;&gt;12 -->\n<g id=\"edge12\" class=\"edge\">\n<title>10&#45;&gt;12</title>\n<path fill=\"none\" stroke=\"#000000\" d=\"M378.3908,-88.9777C391.6423,-79.3629 406.0347,-68.9203 419.1913,-59.3743\"/>\n<polygon fill=\"#000000\" stroke=\"#000000\" points=\"421.5957,-61.9541 427.6342,-53.2485 417.4848,-56.2883 421.5957,-61.9541\"/>\n</g>\n<!-- 15 -->\n<g id=\"node16\" class=\"node\">\n<title>15</title>\n<polygon fill=\"none\" stroke=\"#000000\" points=\"655,-261 540,-261 540,-193 655,-193 655,-261\"/>\n<text text-anchor=\"middle\" x=\"597.5\" y=\"-245.8\" font-family=\"Helvetica,sans-Serif\" font-size=\"14.00\" fill=\"#000000\">X[0] &lt;= 6.6</text>\n<text text-anchor=\"middle\" x=\"597.5\" y=\"-230.8\" font-family=\"Helvetica,sans-Serif\" font-size=\"14.00\" fill=\"#000000\">gini = 0.48</text>\n<text text-anchor=\"middle\" x=\"597.5\" y=\"-215.8\" font-family=\"Helvetica,sans-Serif\" font-size=\"14.00\" fill=\"#000000\">samples = 3</text>\n<text text-anchor=\"middle\" x=\"597.5\" y=\"-200.8\" font-family=\"Helvetica,sans-Serif\" font-size=\"14.00\" fill=\"#000000\">value = [0, 3, 2]</text>\n</g>\n<!-- 14&#45;&gt;15 -->\n<g id=\"edge15\" class=\"edge\">\n<title>14&#45;&gt;15</title>\n<path fill=\"none\" stroke=\"#000000\" d=\"M597.5,-296.9465C597.5,-288.776 597.5,-279.9318 597.5,-271.3697\"/>\n<polygon fill=\"#000000\" stroke=\"#000000\" points=\"601.0001,-271.13 597.5,-261.13 594.0001,-271.13 601.0001,-271.13\"/>\n</g>\n<!-- 18 -->\n<g id=\"node19\" class=\"node\">\n<title>18</title>\n<polygon fill=\"none\" stroke=\"#000000\" points=\"796,-253.5 673,-253.5 673,-200.5 796,-200.5 796,-253.5\"/>\n<text text-anchor=\"middle\" x=\"734.5\" y=\"-238.3\" font-family=\"Helvetica,sans-Serif\" font-size=\"14.00\" fill=\"#000000\">gini = 0.0</text>\n<text text-anchor=\"middle\" x=\"734.5\" y=\"-223.3\" font-family=\"Helvetica,sans-Serif\" font-size=\"14.00\" fill=\"#000000\">samples = 19</text>\n<text text-anchor=\"middle\" x=\"734.5\" y=\"-208.3\" font-family=\"Helvetica,sans-Serif\" font-size=\"14.00\" fill=\"#000000\">value = [0, 0, 32]</text>\n</g>\n<!-- 14&#45;&gt;18 -->\n<g id=\"edge18\" class=\"edge\">\n<title>14&#45;&gt;18</title>\n<path fill=\"none\" stroke=\"#000000\" d=\"M642.3589,-296.9465C658.1748,-284.9403 675.9073,-271.4791 691.5607,-259.5962\"/>\n<polygon fill=\"#000000\" stroke=\"#000000\" points=\"693.6871,-262.3764 699.5358,-253.5422 689.4545,-256.8009 693.6871,-262.3764\"/>\n</g>\n<!-- 16 -->\n<g id=\"node17\" class=\"node\">\n<title>16</title>\n<polygon fill=\"none\" stroke=\"#000000\" points=\"655,-149.5 540,-149.5 540,-96.5 655,-96.5 655,-149.5\"/>\n<text text-anchor=\"middle\" x=\"597.5\" y=\"-134.3\" font-family=\"Helvetica,sans-Serif\" font-size=\"14.00\" fill=\"#000000\">gini = 0.0</text>\n<text text-anchor=\"middle\" x=\"597.5\" y=\"-119.3\" font-family=\"Helvetica,sans-Serif\" font-size=\"14.00\" fill=\"#000000\">samples = 2</text>\n<text text-anchor=\"middle\" x=\"597.5\" y=\"-104.3\" font-family=\"Helvetica,sans-Serif\" font-size=\"14.00\" fill=\"#000000\">value = [0, 0, 2]</text>\n</g>\n<!-- 15&#45;&gt;16 -->\n<g id=\"edge16\" class=\"edge\">\n<title>15&#45;&gt;16</title>\n<path fill=\"none\" stroke=\"#000000\" d=\"M597.5,-192.9465C597.5,-182.2621 597.5,-170.4254 597.5,-159.5742\"/>\n<polygon fill=\"#000000\" stroke=\"#000000\" points=\"601.0001,-159.5421 597.5,-149.5422 594.0001,-159.5422 601.0001,-159.5421\"/>\n</g>\n<!-- 17 -->\n<g id=\"node18\" class=\"node\">\n<title>17</title>\n<polygon fill=\"none\" stroke=\"#000000\" points=\"788,-149.5 673,-149.5 673,-96.5 788,-96.5 788,-149.5\"/>\n<text text-anchor=\"middle\" x=\"730.5\" y=\"-134.3\" font-family=\"Helvetica,sans-Serif\" font-size=\"14.00\" fill=\"#000000\">gini = 0.0</text>\n<text text-anchor=\"middle\" x=\"730.5\" y=\"-119.3\" font-family=\"Helvetica,sans-Serif\" font-size=\"14.00\" fill=\"#000000\">samples = 1</text>\n<text text-anchor=\"middle\" x=\"730.5\" y=\"-104.3\" font-family=\"Helvetica,sans-Serif\" font-size=\"14.00\" fill=\"#000000\">value = [0, 3, 0]</text>\n</g>\n<!-- 15&#45;&gt;17 -->\n<g id=\"edge17\" class=\"edge\">\n<title>15&#45;&gt;17</title>\n<path fill=\"none\" stroke=\"#000000\" d=\"M641.0492,-192.9465C656.2625,-181.0504 673.3023,-167.726 688.3957,-155.9237\"/>\n<polygon fill=\"#000000\" stroke=\"#000000\" points=\"690.8351,-158.4592 696.5567,-149.5422 686.5231,-152.9449 690.8351,-158.4592\"/>\n</g>\n</g>\n</svg>\n"
          },
          "metadata": {},
          "execution_count": 5
        }
      ],
      "source": [
        "tree = clf.estimators_[3]\n",
        "#I randomly chose the 3rd tree\n",
        "graph = graphviz.Source(export_graphviz(tree))\n",
        "#I visualized this tree with Graphviz library\n",
        "graph"
      ]
    }
  ],
  "metadata": {
    "kernelspec": {
      "display_name": "Python 3 (ipykernel)",
      "language": "python",
      "name": "python3"
    },
    "language_info": {
      "codemirror_mode": {
        "name": "ipython",
        "version": 3
      },
      "file_extension": ".py",
      "mimetype": "text/x-python",
      "name": "python",
      "nbconvert_exporter": "python",
      "pygments_lexer": "ipython3",
      "version": "3.10.2"
    },
    "colab": {
      "provenance": [],
      "include_colab_link": true
    }
  },
  "nbformat": 4,
  "nbformat_minor": 5
}